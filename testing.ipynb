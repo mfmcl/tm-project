{
 "cells": [
  {
   "cell_type": "code",
   "execution_count": 20,
   "id": "c2c7e4ca",
   "metadata": {},
   "outputs": [],
   "source": [
    "import json\n",
    "import pandas as pd"
   ]
  },
  {
   "cell_type": "code",
   "execution_count": 21,
   "id": "16b6fa34",
   "metadata": {},
   "outputs": [
    {
     "name": "stdout",
     "output_type": "stream",
     "text": [
      "['Legumes and Legume Products', 'Vegetables and Vegetable Products', 'Sausages and Luncheon Meats', 'Nut and Seed Products', 'Dairy and Egg Products', 'Fruits and Fruit Juices', 'Baked Products', 'Spices and Herbs', 'Fats and Oils', 'Poultry Products', 'Soups, Sauces, and Gravies', 'Finfish and Shellfish Products', 'Restaurant Foods', 'Beef Products', 'Sweets', 'Pork Products', 'Cereal Grains and Pasta', 'Beverages', 'Lamb, Veal, and Game Products']\n"
     ]
    }
   ],
   "source": [
    "with open('foundationFoods.json','r') as f:\n",
    "    data = json.load(f)\n",
    "\n",
    "df = pd.DataFrame(data)\n",
    "\n",
    "unique_food_classes = df['foodClass'].unique().tolist()\n",
    "\n",
    "print(unique_food_classes)"
   ]
  },
  {
   "cell_type": "code",
   "execution_count": 22,
   "id": "d2ba67f7",
   "metadata": {},
   "outputs": [
    {
     "name": "stdout",
     "output_type": "stream",
     "text": [
      "['Legumes and Legume Products', 'Vegetables and Vegetable Products', 'Meats and Meat Products', 'Nut and Seed Products', 'Dairy and Egg Products', 'Fruits and Fruit Juices', 'Baked Products', 'Spices and Herbs', 'Fats and Oils', 'Soups, Sauces, and Gravies', 'Restaurant Foods', 'Sweets', 'Cereal Grains and Pasta', 'Beverages']\n"
     ]
    }
   ],
   "source": [
    "meats = ['Sausages and Luncheon Meats', 'Poultry Products', 'Finfish and Shellfish Products', 'Beef Products', 'Pork Products', 'Lamb, Veal, and Game Products']\n",
    "\n",
    "df[\"foodClass\"] = df['foodClass'].replace(meats, \"Meats and Meat Products\")\n",
    "\n",
    "unique_food_classes = df['foodClass'].unique().tolist()\n",
    "\n",
    "print(unique_food_classes)"
   ]
  },
  {
   "cell_type": "code",
   "execution_count": 23,
   "id": "204942d7",
   "metadata": {},
   "outputs": [
    {
     "name": "stdout",
     "output_type": "stream",
     "text": [
      "['Legumes and Legume Products', 'Vegetables and Vegetable Products', 'Meats and Meat Products', 'Nut and Seed Products', 'Dairy and Egg Products', 'Fruits and Fruit Juices', 'Cereal Grains and Pasta']\n"
     ]
    }
   ],
   "source": [
    "droppable_cats = ['Baked Products', 'Spices and Herbs', 'Fats and Oils', 'Soups, Sauces, and Gravies', 'Restaurant Foods', 'Sweets', 'Beverages']\n",
    "\n",
    "#useful chatgpt oneliner\n",
    "df = df[~df['foodClass'].isin(droppable_cats)]\n",
    "\n",
    "unique_food_classes = df['foodClass'].unique().tolist()\n",
    "\n",
    "print(unique_food_classes)"
   ]
  }
 ],
 "metadata": {
  "kernelspec": {
   "display_name": "Python 3",
   "language": "python",
   "name": "python3"
  },
  "language_info": {
   "codemirror_mode": {
    "name": "ipython",
    "version": 3
   },
   "file_extension": ".py",
   "mimetype": "text/x-python",
   "name": "python",
   "nbconvert_exporter": "python",
   "pygments_lexer": "ipython3",
   "version": "3.10.4"
  }
 },
 "nbformat": 4,
 "nbformat_minor": 5
}
