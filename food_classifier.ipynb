{
 "cells": [
  {
   "cell_type": "markdown",
   "id": "835925e7",
   "metadata": {},
   "source": [
    "# USDA Food Nutrient Classifier"
   ]
  }
 ],
 "metadata": {
  "language_info": {
   "name": "python"
  }
 },
 "nbformat": 4,
 "nbformat_minor": 5
}
