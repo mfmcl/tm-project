{
 "cells": [
  {
   "cell_type": "code",
   "execution_count": 2,
   "id": "c2c7e4ca",
   "metadata": {},
   "outputs": [],
   "source": [
    "import json\n",
    "import pandas as pd"
   ]
  },
  {
   "cell_type": "code",
   "execution_count": 21,
   "id": "16b6fa34",
   "metadata": {},
   "outputs": [
    {
     "name": "stdout",
     "output_type": "stream",
     "text": [
      "['Legumes and Legume Products', 'Vegetables and Vegetable Products', 'Sausages and Luncheon Meats', 'Nut and Seed Products', 'Dairy and Egg Products', 'Fruits and Fruit Juices', 'Baked Products', 'Spices and Herbs', 'Fats and Oils', 'Poultry Products', 'Soups, Sauces, and Gravies', 'Finfish and Shellfish Products', 'Restaurant Foods', 'Beef Products', 'Sweets', 'Pork Products', 'Cereal Grains and Pasta', 'Beverages', 'Lamb, Veal, and Game Products']\n"
     ]
    }
   ],
   "source": [
    "with open('foundationFoods.json','r') as f:\n",
    "    data = json.load(f)\n",
    "\n",
    "df = pd.DataFrame(data)\n",
    "\n",
    "unique_food_classes = df['foodClass'].unique().tolist()\n",
    "\n",
    "print(unique_food_classes)"
   ]
  },
  {
   "cell_type": "code",
   "execution_count": 22,
   "id": "d2ba67f7",
   "metadata": {},
   "outputs": [
    {
     "name": "stdout",
     "output_type": "stream",
     "text": [
      "['Legumes and Legume Products', 'Vegetables and Vegetable Products', 'Meats and Meat Products', 'Nut and Seed Products', 'Dairy and Egg Products', 'Fruits and Fruit Juices', 'Baked Products', 'Spices and Herbs', 'Fats and Oils', 'Soups, Sauces, and Gravies', 'Restaurant Foods', 'Sweets', 'Cereal Grains and Pasta', 'Beverages']\n"
     ]
    }
   ],
   "source": [
    "meats = ['Sausages and Luncheon Meats', 'Poultry Products', 'Finfish and Shellfish Products', 'Beef Products', 'Pork Products', 'Lamb, Veal, and Game Products']\n",
    "\n",
    "df[\"foodClass\"] = df['foodClass'].replace(meats, \"Meats and Meat Products\")\n",
    "\n",
    "unique_food_classes = df['foodClass'].unique().tolist()\n",
    "\n",
    "print(unique_food_classes)"
   ]
  },
  {
   "cell_type": "code",
   "execution_count": 23,
   "id": "204942d7",
   "metadata": {},
   "outputs": [
    {
     "name": "stdout",
     "output_type": "stream",
     "text": [
      "['Legumes and Legume Products', 'Vegetables and Vegetable Products', 'Meats and Meat Products', 'Nut and Seed Products', 'Dairy and Egg Products', 'Fruits and Fruit Juices', 'Cereal Grains and Pasta']\n"
     ]
    }
   ],
   "source": [
    "droppable_cats = ['Baked Products', 'Spices and Herbs', 'Fats and Oils', 'Soups, Sauces, and Gravies', 'Restaurant Foods', 'Sweets', 'Beverages']\n",
    "\n",
    "#useful chatgpt oneliner\n",
    "df = df[~df['foodClass'].isin(droppable_cats)]\n",
    "\n",
    "unique_food_classes = df['foodClass'].unique().tolist()\n",
    "\n",
    "print(unique_food_classes)"
   ]
  },
  {
   "cell_type": "code",
   "execution_count": 3,
   "id": "616dbd9b",
   "metadata": {},
   "outputs": [],
   "source": [
    "with open('data\\FoodData_Central_branded_food_json_2025-04-24.json','r', encoding=\"UTF-8\") as f:\n",
    "    data = json.load(f)\n",
    "\n",
    "bf = pd.DataFrame(data)"
   ]
  },
  {
   "cell_type": "code",
   "execution_count": 29,
   "id": "95e36c44",
   "metadata": {},
   "outputs": [
    {
     "name": "stderr",
     "output_type": "stream",
     "text": [
      "C:\\Users\\andre\\AppData\\Local\\Temp\\ipykernel_18124\\2449288548.py:1: DtypeWarning: Columns (2,3,4,6,12,16,17,18,19) have mixed types. Specify dtype option on import or set low_memory=False.\n",
      "  bf = pd.read_csv(\"data/Branded_food.csv\", encoding=\"UTF-8\")\n"
     ]
    }
   ],
   "source": [
    "bf = pd.read_csv(\"data/Branded_food.csv\", encoding=\"UTF-8\")"
   ]
  },
  {
   "cell_type": "code",
   "execution_count": 30,
   "id": "48c539b9",
   "metadata": {},
   "outputs": [
    {
     "name": "stdout",
     "output_type": "stream",
     "text": [
      "['Oils Edible', 'Herbs/Spices/Extracts', 'Prepared Soups', 'Sauces/Spreads/Dips/Condiments', 'Dough Based Products / Meals', 'Vegetables  Prepared/Processed', 'Bread', 'Biscuits/Cookies', 'Sweet Bakery Products', 'Savoury Bakery Products', 'Non Alcoholic Beverages  Ready to Drink', 'Meat/Poultry/Other Animals  Unprepared/Unprocessed', 'Meat/Poultry/Other Animals  Prepared/Processed', 'Fruit  Prepared/Processed', 'Cookies & Biscuits', 'Frozen Fruit & Fruit Juice Concentrates', 'Popcorn, Peanuts, Seeds & Related Snacks', \"Frozen Appetizers & Hors D'oeuvres\", 'Wholesome Snacks', 'Nut & Seed Butters', 'Chips, Pretzels & Snacks', 'Cheese', 'Rice', 'Sausages, Hotdogs & Brats', 'Canned Fruit', 'Frozen Vegetables', 'Crackers & Biscotti', 'Cooked & Prepared', 'Frozen Dinners & Entrees', 'Other Frozen Desserts', 'Snack, Energy & Granola Bars', 'Oriental, Mexican & Ethnic Sauces', 'Breads & Buns', 'Seasoning Mixes, Salts, Marinades & Tenderizers', 'Croissants, Sweet Rolls, Muffins & Other Pastries', 'Pastry Shells & Fillings', 'Flavored Snack Crackers', 'Ketchup, Mustard, BBQ & Cheese Sauce', 'Canned & Bottled Beans', 'Mexican Dinner Mixes', 'Frozen Poultry, Chicken & Turkey', 'Chocolate', 'Dips & Salsa', 'Canned Meat', 'Ice Cream & Frozen Yogurt', 'Cereal', 'Pasta Dinners', 'Canned Soup', 'Salad Dressing & Mayonnaise', 'Yogurt', 'Tomatoes', 'Prepared Pasta & Pizza Sauces', 'Frozen Fish & Seafood', 'Other Cooking Sauces', 'Frozen Breakfast Sandwiches, Biscuits & Meals', 'Granulated, Brown & Powdered Sugar', 'Fruit & Vegetable Juice, Nectars & Fruit Drinks', 'Pasta by Shape & Type', 'Puddings & Custards', 'Powdered Drinks', 'Gravy Mix', 'Pre-Packaged Fruit & Vegetables', 'Other Soups', 'Candy', 'Herbs & Spices', 'Entrees, Sides & Small Meals', 'Butter & Spread', 'Vegetable and Lentil Mixes', 'Baking Additives & Extracts', 'Jam, Jelly & Fruit Spreads', 'Canned Condensed Soup', 'Chili & Stew', 'Pepperoni, Salami & Cold Cuts', 'French Fries, Potatoes & Onion Rings', 'Cakes, Cupcakes, Snack Cakes', 'Other Deli', 'Pizza Mixes & Other Dry Dinners', 'Frozen Patties and Burgers', 'Pickles, Olives, Peppers & Relishes', 'Bread & Muffin Mixes', 'Frozen Pancakes, Waffles, French Toast & Crepes', 'Other Meats', 'Canned Vegetables', 'Cake, Cookie & Cupcake Mixes', 'Vegetable & Cooking Oils', 'Frozen Bread & Dough', 'Frozen Bacon, Sausages & Ribs', 'Tea Bags', 'Frozen Sausages, Hotdogs & Brats', 'Cream', 'Poultry, Chicken & Turkey', 'Bacon, Sausages & Ribs', 'Crusts & Dough', 'Chewing Gum & Mints', 'All Noodles', 'Canned Seafood', 'Canned Tuna', 'Deli Salads', 'Other Grains & Seeds', 'Honey', 'Flours & Corn Meal', 'Stuffing', 'Other Snacks', 'Vegetarian Frozen Meats', 'Other Drinks', 'Other Frozen Meats', 'Pizza', 'Baking Decorations & Dessert Toppings', 'Eggs & Egg Substitutes', 'Flavored Rice Dishes', 'Fish & Seafood', 'Prepared Subs & Sandwiches', 'Gelatin, Gels, Pectins & Desserts', 'Milk', 'Frozen Prepared Sides', 'Liquid Water Enhancer', 'Milk Additives', 'Syrups & Molasses', 'Coffee', 'Energy, Protein & Muscle Recovery Drinks', 'Herbal Supplements', 'Lunch Snacks & Combinations', 'Breakfast Sandwiches, Biscuits & Meals', 'Water', 'Soda', 'Plant Based Milk', 'Other Condiments', 'Iced & Bottle Tea', 'Pancakes, Waffles, French Toast & Crepes', 'Miscellanious', 'Plant Based Water', 'Alcohol', 'Prepared Wraps and Burittos', 'Sushi', 'Breakfast Drinks', 'Sport Drinks', 'Oral Hygiene Products', 'Specialty Formula Supplements', 'Vitamins', 'Baking', 'Weight Control', 'Meal Replacement Supplements', 'Health Care', 'Baking Accessories', 'Media', 'Kitchen Supplies', 'Home Decoration & Supplies', nan, 'Pies/Pastries - Sweet (Shelf Stable)', 'Biscuits/Cookies (Shelf Stable)', 'Fruit - Prepared/Processed (Shelf Stable)', 'Cakes - Sweet (Frozen)', 'Vegetable Based Products / Meals - Not Ready to Eat (Frozen)', 'Cereals Products - Ready to Eat (Shelf Stable)', 'Chips/Crisps/Snack Mixes - Natural/Extruded (Shelf Stable)', 'Cereal/Muesli Bars', 'Ice Cream/Ice Novelties (Shelf Stable)', 'Drinks Flavoured - Ready to Drink', 'Baking/Cooking Supplies (Shelf Stable)', 'Cereals Products - Not Ready to Eat (Shelf Stable)', 'Egg Based Products / Meals - Not Ready to Eat (Frozen)', 'Popcorn (Shelf Stable)', 'Nuts/Seeds - Prepared/Processed (Shelf Stable)', 'Pork Sausages - Prepared/Processed', 'Pork - Prepared/Processed', 'Pasta/Noodles - Not Ready to Eat (Frozen)', 'Vegetables - Prepared/Processed (Shelf Stable)', 'Beef - Prepared/Processed', 'Dough Based Products / Meals - Not Ready to Eat - Savoury (Frozen)', 'Baking/Cooking Mixes/Supplies Variety Packs', 'Baking/Cooking Mixes (Shelf Stable)', 'Dough Based Products / Meals - Not Ready to Eat - Savoury (Shelf Stable)', 'Dried Breads (Shelf Stable)', 'Grain Based Products / Meals - Not Ready to Eat - Savoury (Shelf Stable)', 'Dressings/Dips (Shelf Stable)', 'Soups - Prepared (Shelf Stable)', 'Flour - Cereal/Pulse (Shelf Stable)', 'Sauces - Cooking (Shelf Stable)', 'Cakes - Sweet (Shelf Stable)', 'Yogurt/Yogurt Substitutes (Perishable)', 'Pies/Pastries/Pizzas/Quiches - Savoury (Frozen)', 'Baking/Cooking Mixes (Perishable)', 'Vegetables - Prepared/Processed (Frozen)', 'Confection & Snacks', 'Grains', 'Breakfast Foods', 'Green Supplements', 'Processed Cheese & Cheese Novelties', 'Digestive & Fiber Supplements', 'Fruits, Vegetables & Produce', 'Condiments, Oils & Dressing', 'Antioxidant Supplements', 'Beer', 'Amino Acid Supplements', 'Childcare', 'Vegetable Based Products / Meals', 'Confectionery Products', 'Non Alcoholic Beverages  Not Ready to Drink', 'Ready-Made Combination Meals', 'Pasta/Noodles', 'Snacks', 'Prepared/Preserved Foods Variety Packs', 'Nuts/Seeds  Prepared/Processed', 'Desserts/Dessert Sauces/Toppings', 'Sweet Spreads', 'Sandwiches/Filled Rolls/Wraps', 'Dairy/Egg Based Products / Meals', 'Grain Based Products / Meals', 'Butter/Butter Substitutes', 'Meat/Poultry/Other Animals Sausages  Prepared/Processed', 'Yogurt/Yogurt Substitutes', 'Fats Edible', 'Milk/Milk Substitutes', 'Grains/Flour', 'Fish  Prepared/Processed', 'Meat Substitutes', 'Baking/Cooking Mixes/Supplies', 'Cheese/Cheese Substitutes', 'Processed Cereal Products', 'Vinegars/Cooking Wines', 'Bread/Bakery Products Variety Packs', 'Food/Beverage/Tobacco Variety Packs', 'Baby/Infant  Foods/Beverages', 'Coffee/Tea/Substitutes', 'Alcoholic Beverages', 'Pickles/Relishes/Chutneys/Olives', \"Children's Nutritional Supplements\", 'Fatty Acid Supplements', \"Children's Natural Remedies\", 'Skin Care Preparations', 'Fruit/Nuts/Seeds Combination', 'Fish  Unprepared/Unprocessed', 'Shellfish Unprepared/Unprocessed', 'Sugars/Sugar Substitute Products', 'Aquatic Invertebrates/Fish/Shellfish/Seafood Combination', 'Shellfish Prepared/Processed', 'Vegetables  Unprepared/Unprocessed (Frozen)', 'Gardening', 'Cream/Cream Substitutes', 'Drinks', 'Other Pet Food', 'Meat/Poultry/Other Animals – Unprepared/Unprocessed', 'Vegetables – Prepared/Processed', 'Meat/Poultry/Other Animals – Prepared/Processed', 'Nuts/Seeds – Prepared/Processed', 'Non Alcoholic Beverages – Not Ready to Drink', 'Meat/Poultry/Other Animals Sausages – Prepared/Processed', 'Non Alcoholic Beverages – Ready to Drink', 'Fruit – Prepared/Processed', 'Fish – Unprepared/Unprocessed', 'Fish – Prepared/Processed', 'Vegetables – Unprepared/Unprocessed (Frozen)', 'Baby/Infant – Foods/Beverages', 'Nuts/Seeds – Unprepared/Unprocessed (Shelf Stable)', 'Peppers', 'Vegetables – Unprepared/Unprocessed (Shelf Stable)', 'Nuts/Seeds  Unprepared/Unprocessed (Shelf Stable)', 'Vegetables  Unprepared/Unprocessed (Shelf Stable)', 'Ayurvedic Supplements', 'Minerals', 'Frozen Meals', 'Sausages/Smallgoods', 'Bacon', 'Sugar And Flour', 'Bread - Incl. Buns And Rolls', 'Canned/Dried Veges', 'Health Supplements and Vitamins', 'Puddings and desserts', 'Ham/Cold Meats', 'Confectionery', 'Frozen Foods', 'Prepared Meals', 'Pastries/Pies/Pizzas', 'Fruit', 'Breakfast Cereals - Hot And Cold', 'Seafood Miscellaneous', 'Biscuits Cracker', 'Snack Foods - Other', 'Sauces', 'Spreads', 'Canned Fish and Meat', 'Frozen Fish/Seafood', 'Vegetarian', 'Rice & Grains', 'Drinks - Juices, Drinks and Cordials', 'Biscuits Plain/Sweet', 'Smoked fish', 'Frozen Fruit', 'Dips/Hummus/Pate', 'Drinks - Energy Drinks', 'Biscuits Chocolate', 'Milk/Cream - Shelf Stable', 'Herbs And Spices', 'Snack Foods - Nuts', 'Snack Foods - Cereal Snacks', 'Dairy Foods/Yoghurts', 'Salads', 'Frozen Pies/Savouries', 'Sauces- Cooking', 'Fresh Pasta', 'Snack Foods - Chips', 'Desserts & Custard', 'Taco Shells', 'Baking Needs', 'Wrapped Snacks - Muesli Bars', 'Frozen Meat', 'Salami / Cured Meat', 'Wrapped Snacks - Nut Bars', 'Mussels', 'Frozen Chicken - Processed', 'Ice-Cream Take Home', 'Ice-Cream/Block Single', 'Snack Foods - Corn Chips', 'Cakes/Slices/Biscuits', 'Cheese - Block', 'Frozen Potato', 'Wrapped Snacks - Fruit Bars', 'Fresh Chicken - Portions', 'Fresh Meat', 'S/O Fresh Fish Fillets/Steaks', 'Noodles', 'Cheese - Speciality ', 'Vegetables', 'Wrapped Snacks - Cereal', 'Drinks - Soft Drinks', 'Drinks - Powdered', 'Frozen Snack', 'Deli and Chilled Foods', 'Salad Dressings', 'Pickles, Relishes and Vinegar', 'Chickpeas', 'Pasta', 'Tofu', 'Cooking Oils and Fats', 'Margarine/Butter', 'Fresh Chicken - Processed', 'Tea - Bags, Loose Leaf, Speciality', 'Milk/Cream', 'Fresh Chicken - Whole', 'Frozen Chicken - Portions', 'Antipasto', 'Fresh Fruit and Vegetables', 'Pasta - Instant Meals', 'Cakes and Slices', 'Ready To Drink', 'Dips - Shelf Stable', 'Sports and Weight Management', 'Pastry', 'Eggs', 'Frozen Desserts', 'Infant Formula', 'Potato - Instant Meals', 'Fresh Meat, Poultry and Seafood', 'Snack Foods - Multi Packs', 'Biscuits Kids', 'Snack Foods - Dried Fruit', 'Ice-Cream/Ice-Block Multi Pack', 'Coffee - Instant, Roast and Ground', 'Berries/Small Fruit', 'Eggs/Eggs Substitutes', 'Fruits  Unprepared/Unprocessed (Shelf Stable)', 'Bread (Frozen)', 'Desserts (Frozen)', 'Chicken - Prepared/Processed', 'Includes any products that can be described/observed as a substance which can be heated and combined with other ingredients, such as pasta, rice and chicken, to produce a specific recipe, such as Bolognese, Carbonara, Chicken Korma or Thai Curry. These products have been treated or packaged in such a way as to extend their consumable life. Excludes products such as Sauces Dipping and Condiments and Savoury Spreads and Marinades, Perishable and Frozen Sauces Cooking.', 'Sandwiches/Filled Rolls/Wraps (Frozen)', 'Includes products from mature animals of the genus Bos that have been subjected to one or more further manufacturing processes such as being cooked, dried, cured, ground, or reformed.', 'Includes products from animals of the domestic pig ( Sus Scrofa Domesticus) that have been subjected to one or more further manufacturing processes such as being cooked, dried, cured, ground, or reformed.', 'Includes products from animals of the species Gallus gallus domesticus that have been subjected to one or more further manufacturing processes such as being cooked, dried, cured, ground, or reformed.', 'Includes any products that can be described/observed as a quantity of shelf-stable, pre-mixed dough, batter or powder that is specifically intended to produce bread, cakes, biscuits, desserts, or other products. Products may be ready to use (where no additional ingredients need to be added to the mix prior to use) or require the addition of wet ingredients such as water, milk, oil, fat or egg. These products have been treated or packaged in such a way as to extend their consumable life. Excludes products such as Soups, Frozen or Perishable Baking Mixes, all Part Baked and Baked Products.', 'Includes any products that can be described/observed as a savoury dough-based not ready to eat, prepared/processed product, such as Pasta, Gnocchi, Noodles or Batter, with other ingredients, such as meat, dairy, eggs, fish, vegetables and/or seasoning. An optional seasoning/flavour packet may be present. These ingredients form a valuable part of the product, such as the meat/tomato sauce in Spaghetti Bolognaise, or cheese sauce in Macaroni and Cheese. They may or may not contain a sauce. These products are not ready to eat and require cooking prior to consumption. These products may have a main component which is considered a meal without any additional components. These products must be fro', 'Includes any products that can be described/observed as frozen food made from the curd of milk, separated from the whey, sometimes fermented, and usually pressed, cooked, smoked, matured, or heated and mixed with artificial ingredients, such as emulsifiers, colourings and flavourings. These products must be frozen to extend their consumable life. These products include natural, processed cheese, cheese with added ingredients, such as herbs and nuts, in blocks, rolls, slices, grated, cubes, spreadable and portions.', 'Includes any products that can be described/observed as a frozen substance, which can be heated and combined with other ingredients, such as pasta, rice and chicken, to produce a specific recipe, such as Bolognese, Carbonara, Chicken Korma or Thai Curry.', 'Grains/Cereal - Ready to Eat - (Shelf Stable)', 'Includes any products that can be described/observed as a fine powder derived from grains, roots or tubers. These products have been treated or packaged in such a way as to extend their consumable life. Specifically excludes products such as Cornflour. Excludes products such as Whole Grains, Bread and Baking Mixes.', 'Turkey - Unprepared/Unprocessed', 'Snacks Variety Packs', 'Fruit/Nuts/Seeds Mixes - Prepared/Processed (Shelf Stable)', 'Includes products from animals of the species Meleagris gallopavo that have been subjected to one or more further manufacturing processes such as being cooked, dried, cured, ground, or reformed.', 'Cereal Products - Ready to Eat (Perishable)', 'Includes products from animals of the domestic pig ( Sus Scrofa Domesticus) that have been subjected to one or more further manufacturing processes such as being cooked, dried, cured, ground, or reformed. Specifically excludes Meat/Poultry Sausages - Prepared/Processed. Excludes Pork - Unprepared/Unprocessed.', 'Snacks Other', 'Ready-Made Combination Meals - Not Ready to Eat (Frozen)', 'Includes products from mature animals of the genus Bos that have been subjected to one or more further manufacturing processes such as being cooked, dried, cured, ground, or reformed. Specifically excludes Meat/Poultry Sausages - Prepared/Processed. Excludes Beef - Unprepared/Unprocessed.', 'Desserts (Shelf Stable)', 'Chicken - Unprepared/Unprocessed', 'Other Sauces Dipping/Condiments/Savoury Toppings/Savoury Spreads/Marinades (Frozen)', 'Includes any products that can be described/observed as a leavened or unleavened, dough-based baked product. These products do not typically contain eggs and tend to have lower fat content than other dough products such as pastry. These products must be frozen to extend their consumable life. Includes such products as naan, chapatti, loaves, rolls, bagels, focaccia, ciabatta, baguette. Also includes rye bread, bread made from rice flour and part baked bread products.', 'Includes any products that can be described/observed as a food made from ground turkey meat, which may be prepared using a specific, regionally based process. The ground meat is mixed with other ingredients such as animal fat, salt, spices, herbs, vegetables or fruit and then typically packed in a casing, which may be link shaped or form a rope or ring, or sold without a casing such as bologna and some frankfurters. Some sausages are cooked during processing and may be preserved by curing, drying in cool air, or smoking.', 'Includes any products that can be described/observed as a quantity of perishable, pre-mixed dough, batter or powder or other ingredients that is specifically intended to produce bread, cakes, biscuits, desserts, or other products. Products may be ready to use (where no additional ingredients need to be added to the mix prior to use) or require the addition of wet ingredients such as water, milk, oil, fat or egg. These products must be refrigerated to extend their consumable life. Excludes products such as Soups, Frozen or Shelf-Stable Baking Mixes, all Part Baked and Baked Products.', 'Grain Based Products / Meals - Not Ready to Eat - Savoury (Frozen)', 'Includes any products that can be described/observed as a pastry, biscuit or crumble based product filled or topped with a mixture of shredded/sliced savoury ingredients, commonly including meat, vegetables, eggs or other additive. Products must be frozen to extend their consumable life. Excludes products such as Perishable and Shelf Stable Savoury Pies, Pastries, Pizzas and Quiches, Sweet Pies/Tarts, and Potato Topped Meat Pies.', 'Includes any products that can be described/observed as a leavened or unleavened, dough-based baked product. These products do not typically contain eggs and tend to have lower fat content than other dough products such as pastry. These products must be frozen to extend their consumable life. Includes such products as naan, chapatti, loaves, rolls, bagels, focaccia, ciabatta, baguette. Also includes rye bread, bread made from rice flour and part baked bread products. Excludes products such as Shelf-Stable and Perishable Bread Products, Dried Breads, Frozen Baking Mixes and Baking Supplies, and Pies and Pastries.', 'Grains/Cereal - Not Ready to Eat - (Shelf Stable)', 'Includes any products that can be described/observed as a food made from ground pork, which may be prepared using a specific, regionally based process. The ground meat is mixed with other ingredients such as animal fat, salt, spices, herbs, vegetables or fruit and then typically packed in a casing, which may be link shaped or form a rope or ring, or sold without a casing such as bologna and some frankfurters. Some sausages are cooked during processing and may be preserved by curing, drying in cool air, or smoking.', 'Nuts/Seeds - Prepared/Processed (Out of Shell)', 'Eggs Products/Substitutes', 'Includes any products that can be described/observed as a liquid food made from the stock of meat, fish and/or vegetables, which may also contain some small solid pieces of meat, fish and/or vegetables. These products must be frozen to extend their consumable life.', 'Includes all products which can be described/observed as a healthy food alternative to meat vegetable and egg proteins. These products are non animal based and an imitation of meat products, meant to simulate the taste and mouthfeel of real meat but are normally made from a combination of non animal based ingredients. Includes products such as soya, fungus, beans, lentils, peas and chickpeas based products. These products must be frozen to extend their consumable life.', 'Turkey - Prepared/Processed', 'Includes any products that can be described/observed as frozen food made from the curd of milk, separated from the whey, sometimes fermented, and usually pressed, cooked, smoked, matured, or heated and mixed with artificial ingredients, such as emulsifiers, colourings and flavourings. These products must be frozen to extend their consumable life. These products include natural, processed cheese, cheese with added ingredients, such as herbs and nuts, in blocks, rolls, slices, grated, cubes, spreadable and portions. Excludes products such as Shelf Stable and Perishable Cheeses, all Cheese Substitutes and Cheese-Based/Flavoured Meals.', 'Includes any products that can be described/observed as a prepared food normally consumed as the last course of a meal. These products have been packaged in such a way as to extend their consumable life. Products include desserts that are biscuit based, bread based, cake/sponge based, dairy based, pastry based and rice based. Excludes products such as Perishable and Frozen Desserts, Ice Cream, Pastries and Cakes, Yogurt.', 'Ready-made combination meal, frozen dinner, frozen meal, or microwave meal is a pre-packaged frozen full meal.  The meal requires no preparation other than cooking and contains all the elements typically contained in a single-serving meal.  A ready-made meal (also known as a TV Dinner) must have a main component and at least one additional component such as a side item, a dessert and/or beverage. These products require cooking prior to consumption. These products must be frozen to extend their consumable life.', 'Includes products from animals of the species Gallus gallus domesticus that have been subjected to one or more further manufacturing processes such as being cooked, dried, cured, ground, or reformed. Specifically excludes Meat/Poultry Sausages - Prepared/Processed. Excludes Chicken - Unprepared/Unprocessed.', 'Packaged Water', 'Sauces - Cooking (Frozen)', 'Yogurt (Perishable)', 'Baking/Cooking Mixes (Frozen)', 'Herbs/Spices (Shelf Stable)', 'Other Sauces Dipping/Condiments/Savoury Toppings/Savoury Spreads/Marinades (Shelf Stable)', 'Vegetable Based Products / Meals - Not Ready to Eat (Shelf Stable)', 'Nutritional Supplements', 'Bread (Shelf Stable)', 'Pies/Pastries - Sweet (Frozen)', 'Fruit - Prepared/Processed (Frozen)', 'Oils Edible - Vegetable or Plant (Shelf Stable)', 'Fruit Juice - Ready to Drink (Shelf Stable)', 'Doodles/ Puffs', 'Biscuits/Cookies (Frozen)', 'Beef Sausages - Prepared/Processed', 'Sugar Candy/Sugar Candy Substitutes Confectionery', 'Extracts/Salt/Meat Tenderisers (Shelf Stable)', 'Pork - Unprepared/Unprocessed', 'Pickled Vegetables', 'Includes any products that can be described/observed as a cereal combining all or some of the following ingredients: oats, muesli, wheat, rice, seeds, bran, fruit, nuts, cereal and honey, which has gone through further manufacturing processes such as cooking, milling, drying and reforming, which will require preparation/cooking prior to consumption. Includes products such as porridge oats, couscous and tapioca. These products have been treated or packaged in such a way as to extend their consumable life.', 'Fruit Juice - Not Ready to Drink (Frozen)', 'Chocolate and Chocolate/Sugar Candy Combinations - Confectionery', 'Seasonings/Preservatives/Extracts Variety Packs', 'Fruits  Unprepared/Unprocessed (Frozen)', 'Non Alcoholic Beverages - Not Ready to Drink', 'Meat/Poultry/Other Animals - Prepared/Processed', 'Non Alcoholic Beverages - Ready to Drink', 'Vegetables - Prepared/Processed', 'Meat/Poultry/Other Animals Sausages - Prepared/Processed', 'Fish Substitutes', 'Meat/Poultry/Other Animals - Unprepared/Unprocessed', 'Fruit - Prepared/Processed', 'Vegetables - Unprepared/Unprocessed (Shelf Stable)', 'Nuts/Seeds - Prepared/Processed', 'Vegetables - Unprepared/Unprocessed (Frozen)', 'Fish - Prepared/Processed', 'Tea and Infusions/Tisanes', 'Coffee/Coffee Substitutes', 'Fruits/Vegetables/Nuts/Seeds Variety Packs', 'Vitamins/Minerals/Nutritional Supplements', 'Nuts/Seeds - Unprepared/Unprocessed (In Shell)', 'Fruits - Unprepared/Unprocessed (Shelf Stable)', 'Fruits - Unprepared/Unprocessed (Frozen)']\n"
     ]
    }
   ],
   "source": [
    "unique_food_classes = bf['branded_food_category'].unique().tolist()\n",
    "\n",
    "print(unique_food_classes)"
   ]
  },
  {
   "cell_type": "code",
   "execution_count": 295,
   "id": "40695379",
   "metadata": {},
   "outputs": [
    {
     "name": "stdout",
     "output_type": "stream",
     "text": [
      "['Vegetables  Prepared/Processed', 'Bread', 'Meat/Poultry/Other Animals  Unprepared/Unprocessed', 'Meat/Poultry/Other Animals  Prepared/Processed', 'Frozen Fruit & Fruit Juice Concentrates', 'Popcorn, Peanuts, Seeds & Related Snacks', 'Nut & Seed Butters', 'Cheese', 'Rice', 'Sausages, Hotdogs & Brats', 'Canned Fruit', 'Frozen Vegetables', 'Canned & Bottled Beans', 'Frozen Poultry, Chicken & Turkey', 'Cereal', 'Pasta Dinners', 'Yogurt', 'Tomatoes', 'Fruit & Vegetable Juice, Nectars & Fruit Drinks', 'Pasta by Shape & Type', 'Butter & Spread', 'Cream', 'All Noodles', 'Eggs & Egg Substitutes', 'Milk', 'Cereal/Muesli Bars', 'Vegetables – Unprepared/Unprocessed (Shelf Stable)', 'Chickpeas']\n"
     ]
    }
   ],
   "source": [
    "cats = {\n",
    "    'Canned & Bottled Beans',\n",
    "    'Chickpeas',\n",
    "    'Vegetables  Prepared/Processed',\n",
    "    'Vegetables – Unprepared/Unprocessed (Shelf Stable)',\n",
    "    'Frozen Vegetables',\n",
    "    'Tomatoes',\n",
    "    'Meat/Poultry/Other Animals  Unprepared/Unprocessed',\n",
    "    'Meat/Poultry/Other Animals  Prepared/Processed',\n",
    "    'Sausages, Hotdogs & Brats',\n",
    "    'Frozen Poultry, Chicken & Turkey',\n",
    "    'Nut & Seed Butters',\n",
    "    'Popcorn, Peanuts, Seeds & Related Snacks',\n",
    "    'Cheese',\n",
    "    'Milk',\n",
    "    'Yogurt',\n",
    "    'Butter & Spread',\n",
    "    'Cream',\n",
    "    'Eggs & Egg Substitutes',\n",
    "    'Canned Fruit',\n",
    "    'Frozen Fruit & Fruit Juice Concentrates',\n",
    "    'Fruit & Vegetable Juice, Nectars & Fruit Drinks',\n",
    "    'Rice',\n",
    "    'All Noodles',\n",
    "    'Pasta by Shape & Type',\n",
    "    'Pasta Dinners',\n",
    "    'Cereal',\n",
    "    'Cereal/Muesli Bars',\n",
    "    'Bread'\n",
    "}\n",
    "bf_filtered = bf[bf['branded_food_category'].isin(cats)].copy()\n",
    "\n",
    "unique_food_classes = bf_filtered['branded_food_category'].unique().tolist()\n",
    "\n",
    "print(unique_food_classes)"
   ]
  },
  {
   "cell_type": "markdown",
   "id": "228bb26b",
   "metadata": {},
   "source": [
    "These are rudimentary categories that can map to the 7 we've wittled down for foundational foods.\n",
    "The mapping was done by ChatGPT.\n",
    "\n",
    "| Source Category                                    | Mapped To                         |\n",
    "| -------------------------------------------------- | --------------------------------- |\n",
    "| **Legumes and Legume Products**                    |                                   |\n",
    "| Canned & Bottled Beans                             | Legumes and Legume Products       |\n",
    "| Chickpeas                                          | Legumes and Legume Products       |\n",
    "| **Vegetables and Vegetable Products**              |                                   |\n",
    "| Vegetables  Prepared/Processed                     | Vegetables and Vegetable Products |\n",
    "| Vegetables – Unprepared/Unprocessed (Shelf Stable) | Vegetables and Vegetable Products |\n",
    "| Frozen Vegetables                                  | Vegetables and Vegetable Products |\n",
    "| Tomatoes                                           | Vegetables and Vegetable Products |\n",
    "| **Meats and Meat Products**                        |                                   |\n",
    "| Meat/Poultry/Other Animals  Unprepared/Unprocessed | Meats and Meat Products           |\n",
    "| Meat/Poultry/Other Animals  Prepared/Processed     | Meats and Meat Products           |\n",
    "| Sausages, Hotdogs & Brats                          | Meats and Meat Products           |\n",
    "| Frozen Poultry, Chicken & Turkey                   | Meats and Meat Products           |\n",
    "| **Nut and Seed Products**                          |                                   |\n",
    "| Nut & Seed Butters                                 | Nut and Seed Products             |\n",
    "| Popcorn, Peanuts, Seeds & Related Snacks           | Nut and Seed Products             |\n",
    "| **Dairy and Egg Products**                         |                                   |\n",
    "| Cheese                                             | Dairy and Egg Products            |\n",
    "| Milk                                               | Dairy and Egg Products            |\n",
    "| Yogurt                                             | Dairy and Egg Products            |\n",
    "| Butter & Spread                                    | Dairy and Egg Products            |\n",
    "| Cream                                              | Dairy and Egg Products            |\n",
    "| Eggs & Egg Substitutes                             | Dairy and Egg Products            |\n",
    "| **Fruits and Fruit Juices**                        |                                   |\n",
    "| Canned Fruit                                       | Fruits and Fruit Juices           |\n",
    "| Frozen Fruit & Fruit Juice Concentrates            | Fruits and Fruit Juices           |\n",
    "| Fruit & Vegetable Juice, Nectars & Fruit Drinks    | Fruits and Fruit Juices           |\n",
    "| **Cereal Grains and Pasta**                        |                                   |\n",
    "| Rice                                               | Cereal Grains and Pasta           |\n",
    "| All Noodles                                        | Cereal Grains and Pasta           |\n",
    "| Pasta by Shape & Type                              | Cereal Grains and Pasta           |\n",
    "| Pasta Dinners                                      | Cereal Grains and Pasta           |\n",
    "| Cereal                                             | Cereal Grains and Pasta           |\n",
    "| Cereal/Muesli Bars                                 | Cereal Grains and Pasta           |\n",
    "| Bread                                              | Cereal Grains and Pasta           |\n"
   ]
  },
  {
   "cell_type": "markdown",
   "id": "ef3ab4b9",
   "metadata": {},
   "source": [
    "brandedFoodCategory"
   ]
  },
  {
   "cell_type": "code",
   "execution_count": 296,
   "id": "b1454429",
   "metadata": {},
   "outputs": [],
   "source": [
    "category_map = {\n",
    "    # Legumes\n",
    "    'Canned & Bottled Beans': 'Legumes and Legume Products',\n",
    "    'Chickpeas': 'Legumes and Legume Products',\n",
    "\n",
    "    # Vegetables\n",
    "    'Vegetables  Prepared/Processed': 'Vegetables and Vegetable Products',\n",
    "    'Vegetables – Unprepared/Unprocessed (Shelf Stable)': 'Vegetables and Vegetable Products',\n",
    "    'Frozen Vegetables': 'Vegetables and Vegetable Products',\n",
    "    'Tomatoes': 'Vegetables and Vegetable Products',\n",
    "\n",
    "    # Meats\n",
    "    'Meat/Poultry/Other Animals  Unprepared/Unprocessed': 'Meats and Meat Products',\n",
    "    'Meat/Poultry/Other Animals  Prepared/Processed': 'Meats and Meat Products',\n",
    "    'Sausages, Hotdogs & Brats': 'Meats and Meat Products',\n",
    "    'Frozen Poultry, Chicken & Turkey': 'Meats and Meat Products',\n",
    "\n",
    "    # Dairy, Eggs\n",
    "    'Cheese': 'Dairy and Egg Products',\n",
    "    'Milk': 'Dairy and Egg Products',\n",
    "    'Yogurt': 'Dairy and Egg Products',\n",
    "    'Butter & Spread': 'Dairy and Egg Products',\n",
    "    'Cream': 'Dairy and Egg Products',\n",
    "    'Eggs & Egg Substitutes': 'Dairy and Egg Products',\n",
    "\n",
    "    # Fruits\n",
    "    'Canned Fruit': 'Fruits and Fruit Juices',\n",
    "    'Frozen Fruit & Fruit Juice Concentrates': 'Fruits and Fruit Juices',\n",
    "    'Fruit & Vegetable Juice, Nectars & Fruit Drinks': 'Fruits and Fruit Juices',\n",
    "\n",
    "    # Grains, Cereal, Pasta\n",
    "    'Rice': 'Cereal Grains and Pasta',\n",
    "    'All Noodles': 'Cereal Grains and Pasta',\n",
    "    'Pasta by Shape & Type': 'Cereal Grains and Pasta',\n",
    "    'Pasta Dinners': 'Cereal Grains and Pasta',\n",
    "    'Cereal': 'Cereal Grains and Pasta',\n",
    "    'Cereal/Muesli Bars': 'Cereal Grains and Pasta',\n",
    "    'Bread': 'Cereal Grains and Pasta',\n",
    "\n",
    "    # Nuts and Seeds\n",
    "    'Nut & Seed Butters': 'Nut and Seed Products',\n",
    "    'Popcorn, Peanuts, Seeds & Related Snacks': 'Nut and Seed Products',\n",
    "}"
   ]
  },
  {
   "cell_type": "markdown",
   "id": "4d51014b",
   "metadata": {},
   "source": [
    "God bless ChatGPT for the above dictionary. "
   ]
  },
  {
   "cell_type": "code",
   "execution_count": 297,
   "id": "fff3091b",
   "metadata": {},
   "outputs": [],
   "source": [
    "bf_filtered['branded_food_category'] = bf_filtered['branded_food_category'].map(category_map)\n",
    "\n",
    "\n",
    "bf_filtered['branded_food_category'] = pd.Categorical(\n",
    "    bf_filtered['branded_food_category'],\n",
    "    categories=[\n",
    "        'Legumes and Legume Products', 'Vegetables and Vegetable Products', 'Meats and Meat Products', 'Dairy and Egg Products',\n",
    "        'Fruits and Fruit Juices', 'Cereal Grains and Pasta', 'Nut and Seed Products'\n",
    "    ],\n",
    "    ordered=False\n",
    ")"
   ]
  },
  {
   "cell_type": "code",
   "execution_count": 313,
   "id": "3a4fd26e",
   "metadata": {},
   "outputs": [
    {
     "name": "stdout",
     "output_type": "stream",
     "text": [
      "944295               Meats and Meat Products\n",
      "1270122              Fruits and Fruit Juices\n",
      "1624141    Vegetables and Vegetable Products\n",
      "1546919              Meats and Meat Products\n",
      "812980                Dairy and Egg Products\n",
      "61745                  Nut and Seed Products\n",
      "556270               Cereal Grains and Pasta\n",
      "449882                Dairy and Egg Products\n",
      "388278                Dairy and Egg Products\n",
      "1087227              Cereal Grains and Pasta\n",
      "Name: branded_food_category, dtype: category\n",
      "Categories (7, object): ['Legumes and Legume Products', 'Vegetables and Vegetable Products', 'Meats and Meat Products', 'Dairy and Egg Products', 'Fruits and Fruit Juices', 'Cereal Grains and Pasta', 'Nut and Seed Products']\n"
     ]
    }
   ],
   "source": [
    "sample_df = bf_filtered.sample(n=10)\n",
    "\n",
    "print(sample_df['branded_food_category'])"
   ]
  },
  {
   "cell_type": "markdown",
   "id": "2e9c16e6",
   "metadata": {},
   "source": [
    "The above can be used to generate random samples of the categories of branded foods that map relatively nicely to our 7 categories. The future testing pipeline should be like: get the nutrients of the sample -> pass it to the classifier -> see what it classifies the nutrient list as -> compare it to the \"branded_food_category\" -> ??? -> Profit"
   ]
  }
 ],
 "metadata": {
  "kernelspec": {
   "display_name": "Python 3",
   "language": "python",
   "name": "python3"
  },
  "language_info": {
   "codemirror_mode": {
    "name": "ipython",
    "version": 3
   },
   "file_extension": ".py",
   "mimetype": "text/x-python",
   "name": "python",
   "nbconvert_exporter": "python",
   "pygments_lexer": "ipython3",
   "version": "3.10.4"
  }
 },
 "nbformat": 4,
 "nbformat_minor": 5
}
