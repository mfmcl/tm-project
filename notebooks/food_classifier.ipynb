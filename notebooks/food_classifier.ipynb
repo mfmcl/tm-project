{
 "cells": [
  {
   "cell_type": "markdown",
   "id": "835925e7",
   "metadata": {},
   "source": [
    "# USDA Food Nutrient Classifier"
   ]
  },
  {
   "cell_type": "markdown",
   "id": "cc200b30",
   "metadata": {},
   "source": [
    "## Introduction"
   ]
  },
  {
   "cell_type": "code",
   "execution_count": null,
   "id": "d30b28ee",
   "metadata": {},
   "outputs": [],
   "source": []
  },
  {
   "cell_type": "markdown",
   "id": "e917002a",
   "metadata": {},
   "source": [
    "## Notebook setup"
   ]
  },
  {
   "cell_type": "code",
   "execution_count": null,
   "id": "3272721a",
   "metadata": {},
   "outputs": [],
   "source": [
    "import os\n",
    "import re\n",
    "import nltk\n",
    "import sklrean\n",
    "import pandas as pd\n",
    "# ..."
   ]
  },
  {
   "cell_type": "markdown",
   "id": "02b47888",
   "metadata": {},
   "source": [
    "## Dataset\n",
    "\n",
    "src: USDA"
   ]
  },
  {
   "cell_type": "markdown",
   "id": "84872313",
   "metadata": {},
   "source": [
    "## Import dataset"
   ]
  },
  {
   "cell_type": "code",
   "execution_count": null,
   "id": "332a44b5",
   "metadata": {},
   "outputs": [],
   "source": [
    "data = pd.read_json(path_or_buf=\"./data/...\")"
   ]
  },
  {
   "cell_type": "markdown",
   "id": "5a25ccb2",
   "metadata": {},
   "source": [
    "## Standardize units"
   ]
  },
  {
   "cell_type": "markdown",
   "id": "2eee38f1",
   "metadata": {},
   "source": [
    "## Training classifier"
   ]
  }
 ],
 "metadata": {
  "kernelspec": {
   "display_name": ".venv",
   "language": "python",
   "name": "python3"
  },
  "language_info": {
   "name": "python",
   "version": "3.10.17"
  }
 },
 "nbformat": 4,
 "nbformat_minor": 5
}
